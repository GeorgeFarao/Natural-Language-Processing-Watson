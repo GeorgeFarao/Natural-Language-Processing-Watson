{
  "nbformat": 4,
  "nbformat_minor": 0,
  "metadata": {
    "colab": {
      "name": "Language Translation.ipynb",
      "provenance": []
    },
    "kernelspec": {
      "name": "python3",
      "display_name": "Python 3"
    },
    "language_info": {
      "name": "python"
    }
  },
  "cells": [
    {
      "cell_type": "code",
      "metadata": {
        "colab": {
          "base_uri": "https://localhost:8080/"
        },
        "id": "kg9ZGdM3UmUE",
        "outputId": "59535d43-08de-4300-8a62-263b99df5cea"
      },
      "source": [
        "from google.colab import drive\n",
        "drive.mount('/content/gdrive')"
      ],
      "execution_count": 43,
      "outputs": [
        {
          "output_type": "stream",
          "name": "stdout",
          "text": [
            "Mounted at /content/gdrive\n"
          ]
        }
      ]
    },
    {
      "cell_type": "code",
      "metadata": {
        "id": "9at7duL_MDrU"
      },
      "source": [
        "!pip install ibm_watson"
      ],
      "execution_count": null,
      "outputs": []
    },
    {
      "cell_type": "markdown",
      "metadata": {
        "id": "Gs_JT8KkMg6M"
      },
      "source": [
        "## 1. Authenticate"
      ]
    },
    {
      "cell_type": "code",
      "metadata": {
        "id": "XkZr890nO_FI"
      },
      "source": [
        "# You can get your URL and apikey from https://cloud.ibm.com/services/language-translator\n",
        "url = ''\n",
        "apikey = ''"
      ],
      "execution_count": 2,
      "outputs": []
    },
    {
      "cell_type": "code",
      "metadata": {
        "id": "FYAhMKOhPYd8"
      },
      "source": [
        "#import deps\n",
        "from ibm_watson import LanguageTranslatorV3\n",
        "from ibm_cloud_sdk_core.authenticators import IAMAuthenticator"
      ],
      "execution_count": 3,
      "outputs": []
    },
    {
      "cell_type": "code",
      "metadata": {
        "id": "pvIElGOgPtol"
      },
      "source": [
        "# Setup service\n",
        "authenticator = IAMAuthenticator(apikey)\n",
        "lt = LanguageTranslatorV3(version='2018-05-01', authenticator= authenticator)\n",
        "lt.set_service_url(url)"
      ],
      "execution_count": 5,
      "outputs": []
    },
    {
      "cell_type": "markdown",
      "metadata": {
        "id": "Sp_tmTSSQIgt"
      },
      "source": [
        "## 2. Translate"
      ]
    },
    {
      "cell_type": "code",
      "metadata": {
        "id": "c69CQWEwQMEF"
      },
      "source": [
        "translation = lt.translate(text='I really like popcorn', model_id='en-de').get_result()"
      ],
      "execution_count": 31,
      "outputs": []
    },
    {
      "cell_type": "code",
      "metadata": {
        "colab": {
          "base_uri": "https://localhost:8080/"
        },
        "id": "pnkfA6VgRQ5Q",
        "outputId": "695ecdca-1f2c-4c3f-d323-75677790ad91"
      },
      "source": [
        "translation"
      ],
      "execution_count": 19,
      "outputs": [
        {
          "output_type": "execute_result",
          "data": {
            "text/plain": [
              "{'character_count': 11,\n",
              " 'translations': [{'translation': 'Hallo Welt'}],\n",
              " 'word_count': 2}"
            ]
          },
          "metadata": {},
          "execution_count": 19
        }
      ]
    },
    {
      "cell_type": "code",
      "metadata": {
        "colab": {
          "base_uri": "https://localhost:8080/",
          "height": 35
        },
        "id": "F972I-FjSIUH",
        "outputId": "64d1a7b9-b9fc-4e76-be86-36eb638f7736"
      },
      "source": [
        "translation['translations'][0]['translation']"
      ],
      "execution_count": 32,
      "outputs": [
        {
          "output_type": "execute_result",
          "data": {
            "application/vnd.google.colaboratory.intrinsic+json": {
              "type": "string"
            },
            "text/plain": [
              "'Ich mag Popcorn'"
            ]
          },
          "metadata": {},
          "execution_count": 32
        }
      ]
    },
    {
      "cell_type": "markdown",
      "metadata": {
        "id": "3P1QKAqgStIp"
      },
      "source": [
        "## 3. Identify Languages"
      ]
    },
    {
      "cell_type": "code",
      "metadata": {
        "id": "F2wI6T4qSxLP"
      },
      "source": [
        "language = lt.identify('Ich mag Popcorn').get_result()"
      ],
      "execution_count": 38,
      "outputs": []
    },
    {
      "cell_type": "code",
      "metadata": {
        "colab": {
          "base_uri": "https://localhost:8080/"
        },
        "id": "xbJNzuOqS-0x",
        "outputId": "77123587-11d7-40ef-d5a1-0cd1b6cf2985"
      },
      "source": [
        "language"
      ],
      "execution_count": 39,
      "outputs": [
        {
          "output_type": "execute_result",
          "data": {
            "text/plain": [
              "{'languages': [{'confidence': 0.8649964548656219, 'language': 'de'},\n",
              "  {'confidence': 0.030430461715336782, 'language': 'en'},\n",
              "  {'confidence': 0.029891919771240155, 'language': 'nl'},\n",
              "  {'confidence': 0.014621367125252322, 'language': 'sv'},\n",
              "  {'confidence': 0.012996723509800488, 'language': 'cy'},\n",
              "  {'confidence': 0.0051296152680000906, 'language': 'sk'},\n",
              "  {'confidence': 0.005120925825988349, 'language': 'tl'},\n",
              "  {'confidence': 0.004204234191468238, 'language': 'it'},\n",
              "  {'confidence': 0.003884625315142753, 'language': 'pl'},\n",
              "  {'confidence': 0.0038576221190533924, 'language': 'fr'},\n",
              "  {'confidence': 0.003845825655882618, 'language': 'da'},\n",
              "  {'confidence': 0.003753039030831332, 'language': 'nn'},\n",
              "  {'confidence': 0.0024092694604338676, 'language': 'nb'},\n",
              "  {'confidence': 0.002070931328842096, 'language': 'ga'},\n",
              "  {'confidence': 0.0020224431881890165, 'language': 'vi'},\n",
              "  {'confidence': 0.0010995144254557353, 'language': 'af'},\n",
              "  {'confidence': 0.000937443445669923, 'language': 'hr'},\n",
              "  {'confidence': 0.0008368350884049951, 'language': 'sq'},\n",
              "  {'confidence': 0.0007809408500900418, 'language': 'ms'},\n",
              "  {'confidence': 0.0007303451598453964, 'language': 'ro'},\n",
              "  {'confidence': 0.0007027532422691628, 'language': 'sl'},\n",
              "  {'confidence': 0.000679485145546122, 'language': 'es'},\n",
              "  {'confidence': 0.0005685153821068295, 'language': 'eo'},\n",
              "  {'confidence': 0.0005111585311123195, 'language': 'ca'},\n",
              "  {'confidence': 0.0004796222737452386, 'language': 'pt'},\n",
              "  {'confidence': 0.0004730410700986624, 'language': 'ht'},\n",
              "  {'confidence': 0.0004700846939860182, 'language': 'cs'},\n",
              "  {'confidence': 0.0003799444680939942, 'language': 'is'},\n",
              "  {'confidence': 0.0003496967305952154, 'language': 'mt'},\n",
              "  {'confidence': 0.00029015066245770656, 'language': 'tr'},\n",
              "  {'confidence': 0.0002095098260977362, 'language': 'ku'},\n",
              "  {'confidence': 0.00018083851546081187, 'language': 'hu'},\n",
              "  {'confidence': 0.00014021355521936477, 'language': 'lv'},\n",
              "  {'confidence': 0.00013260397295252702, 'language': 'az'},\n",
              "  {'confidence': 0.00010537433041611532, 'language': 'fi'},\n",
              "  {'confidence': 9.478196699342724e-05, 'language': 'zh'},\n",
              "  {'confidence': 9.331793388134987e-05, 'language': 'so'},\n",
              "  {'confidence': 8.587433168244136e-05, 'language': 'et'},\n",
              "  {'confidence': 7.921844561717712e-05, 'language': 'zh-TW'},\n",
              "  {'confidence': 5.798517828484718e-05, 'language': 'lt'},\n",
              "  {'confidence': 5.501146593679274e-05, 'language': 'eu'},\n",
              "  {'confidence': 4.419567082283893e-05, 'language': 'ja'},\n",
              "  {'confidence': 2.0276053968989878e-05, 'language': 'th'},\n",
              "  {'confidence': 1.6882462567656384e-05, 'language': 'ko'},\n",
              "  {'confidence': 1.3410114388963878e-05, 'language': 'hi'},\n",
              "  {'confidence': 1.2619920719027667e-05, 'language': 'el'},\n",
              "  {'confidence': 9.746367874476054e-06, 'language': 'my'},\n",
              "  {'confidence': 9.575404021358738e-06, 'language': 'ru'},\n",
              "  {'confidence': 8.867223095790577e-06, 'language': 'ur'},\n",
              "  {'confidence': 8.598399734561535e-06, 'language': 'mn'},\n",
              "  {'confidence': 7.637655593190327e-06, 'language': 'ar'},\n",
              "  {'confidence': 6.315898141864312e-06, 'language': 'sr'},\n",
              "  {'confidence': 5.806221494539035e-06, 'language': 'km'},\n",
              "  {'confidence': 5.475199559912329e-06, 'language': 'lo'},\n",
              "  {'confidence': 5.120557654877272e-06, 'language': 'he'},\n",
              "  {'confidence': 4.989581036549563e-06, 'language': 'bn'},\n",
              "  {'confidence': 4.05769762196081e-06, 'language': 'ka'},\n",
              "  {'confidence': 3.926122654967885e-06, 'language': 'ta'},\n",
              "  {'confidence': 3.789713934261022e-06, 'language': 'mr'},\n",
              "  {'confidence': 3.6935225940434976e-06, 'language': 'ml'},\n",
              "  {'confidence': 3.5152153504429726e-06, 'language': 'ps'},\n",
              "  {'confidence': 3.4980034479830932e-06, 'language': 'pa'},\n",
              "  {'confidence': 3.3950280541582753e-06, 'language': 'uk'},\n",
              "  {'confidence': 3.3530636464401414e-06, 'language': 'fa'},\n",
              "  {'confidence': 3.159476408308689e-06, 'language': 'bg'},\n",
              "  {'confidence': 3.0302522048043343e-06, 'language': 'hy'},\n",
              "  {'confidence': 3.0214722268797263e-06, 'language': 'kk'},\n",
              "  {'confidence': 2.941659408172753e-06, 'language': 'be'},\n",
              "  {'confidence': 2.8703928511747692e-06, 'language': 'ne'},\n",
              "  {'confidence': 2.8325486157385715e-06, 'language': 'ky'},\n",
              "  {'confidence': 2.826428647638476e-06, 'language': 'pa-PK'},\n",
              "  {'confidence': 2.8248975803231523e-06, 'language': 'te'},\n",
              "  {'confidence': 2.412300630975945e-06, 'language': 'gu'},\n",
              "  {'confidence': 1.9726368015686005e-06, 'language': 'cv'},\n",
              "  {'confidence': 1.861194793841751e-06, 'language': 'ba'},\n",
              "  {'confidence': 1.7825787484177337e-06, 'language': 'si'}]}"
            ]
          },
          "metadata": {},
          "execution_count": 39
        }
      ]
    },
    {
      "cell_type": "markdown",
      "metadata": {
        "id": "iaCMnPuxTmxF"
      },
      "source": [
        "## 4. AI Travel Guide"
      ]
    },
    {
      "cell_type": "code",
      "metadata": {
        "id": "T82NEUCJTu0f"
      },
      "source": [
        "# You can get your URL and apikey from https://cloud.ibm.com/catalog/services/speech-to-text\n",
        "ttsurl = ''\n",
        "ttsapikey =''"
      ],
      "execution_count": 41,
      "outputs": []
    },
    {
      "cell_type": "code",
      "metadata": {
        "id": "2GyXX2EDUBLN"
      },
      "source": [
        "from ibm_watson import TextToSpeechV1"
      ],
      "execution_count": 40,
      "outputs": []
    },
    {
      "cell_type": "code",
      "metadata": {
        "id": "8dH8bb5DUNcQ"
      },
      "source": [
        "#Authenticate\n",
        "\n",
        "#setup service\n",
        "ttsauthenticator =IAMAuthenticator(ttsapikey)\n",
        "#New TTS Service\n",
        "tts = TextToSpeechV1(authenticator=ttsauthenticator)\n",
        "# Set Service URL\n",
        "tts.set_service_url(ttsurl)"
      ],
      "execution_count": 42,
      "outputs": []
    },
    {
      "cell_type": "code",
      "metadata": {
        "id": "u9OVmxY0Uf17"
      },
      "source": [
        "translation = lt.translate(text = 'We are sinking! Please send help!',model_id='en-de').get_result()"
      ],
      "execution_count": 44,
      "outputs": []
    },
    {
      "cell_type": "code",
      "metadata": {
        "colab": {
          "base_uri": "https://localhost:8080/",
          "height": 35
        },
        "id": "ztIaYm8AVFQ2",
        "outputId": "1761dbbf-7e53-41c0-a1c0-f0ef68614e95"
      },
      "source": [
        "text = translation['translations'][0]['translation']\n",
        "text"
      ],
      "execution_count": 47,
      "outputs": [
        {
          "output_type": "execute_result",
          "data": {
            "application/vnd.google.colaboratory.intrinsic+json": {
              "type": "string"
            },
            "text/plain": [
              "'Wir sinken! Bitte senden Sie Hilfe!'"
            ]
          },
          "metadata": {},
          "execution_count": 47
        }
      ]
    },
    {
      "cell_type": "code",
      "metadata": {
        "id": "zUpF3aFrVXek"
      },
      "source": [
        "with open('gdrive/MyDrive/TTS/help.mp3','wb') as audio_file:\n",
        "  res = tts.synthesize(text, accept='audio/mp3', voice='de-DE_BirgitV3Voice').get_result()\n",
        "  audio_file.write(res.content)"
      ],
      "execution_count": 49,
      "outputs": []
    }
  ]
}
