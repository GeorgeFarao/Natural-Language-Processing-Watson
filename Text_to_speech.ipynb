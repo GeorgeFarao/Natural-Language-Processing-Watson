{
  "nbformat": 4,
  "nbformat_minor": 0,
  "metadata": {
    "colab": {
      "name": "Text to speech.ipynb",
      "provenance": []
    },
    "kernelspec": {
      "name": "python3",
      "display_name": "Python 3"
    },
    "language_info": {
      "name": "python"
    }
  },
  "cells": [
    {
      "cell_type": "markdown",
      "metadata": {
        "id": "GYdXonmsoiUu"
      },
      "source": [
        "### 0.Install Dependences"
      ]
    },
    {
      "cell_type": "code",
      "metadata": {
        "colab": {
          "base_uri": "https://localhost:8080/"
        },
        "id": "yu-LWeGfEhU4",
        "outputId": "90401e55-d4db-4167-85f2-5b31874a7490"
      },
      "source": [
        "from google.colab import drive\n",
        "drive.mount('/content/gdrive')"
      ],
      "execution_count": 8,
      "outputs": [
        {
          "output_type": "stream",
          "name": "stdout",
          "text": [
            "Mounted at /content/gdrive\n"
          ]
        }
      ]
    },
    {
      "cell_type": "code",
      "metadata": {
        "id": "EQ6y_knfpCjX"
      },
      "source": [
        "!pip install ibm-watson"
      ],
      "execution_count": null,
      "outputs": []
    },
    {
      "cell_type": "markdown",
      "metadata": {
        "id": "8RIfWP6kosTc"
      },
      "source": [
        "### 1. Authenticate"
      ]
    },
    {
      "cell_type": "code",
      "metadata": {
        "id": "5i48rnv2oMN8"
      },
      "source": [
        "# You can get your URL and apikey from https://cloud.ibm.com/catalog/services/speech-to-text\n",
        "url = 'https://api.eu-gb.text-to-speech.watson.cloud.ibm.com/instances/8fcb2bb7-886d-4dad-881b-4ca89818bd47'\n",
        "apikey ='DWKBlA1B16zjaXIesgw2wuyJ9yZly7xtQ-N3HkuHPc2u'"
      ],
      "execution_count": 3,
      "outputs": []
    },
    {
      "cell_type": "code",
      "metadata": {
        "id": "wNgej5irr5k4"
      },
      "source": [
        "from ibm_watson import TextToSpeechV1\n",
        "from ibm_cloud_sdk_core.authenticators import IAMAuthenticator"
      ],
      "execution_count": 6,
      "outputs": []
    },
    {
      "cell_type": "code",
      "metadata": {
        "id": "Tql03ddODnOl"
      },
      "source": [
        "#setup service\n",
        "authenticator =IAMAuthenticator(apikey)\n",
        "#New TTS Service\n",
        "tts = TextToSpeechV1(authenticator=authenticator)\n",
        "# Set Service URL\n",
        "tts.set_service_url(url)"
      ],
      "execution_count": 7,
      "outputs": []
    },
    {
      "cell_type": "markdown",
      "metadata": {
        "id": "iR9vsNJ5ELzQ"
      },
      "source": [
        "### 2. Convert a String"
      ]
    },
    {
      "cell_type": "code",
      "metadata": {
        "id": "yVGS9pkqEP8e"
      },
      "source": [
        "with open('gdrive/MyDrive/TTS/speech.mp3','wb') as audio_file:\n",
        "  res = tts.synthesize('I love popcorn!', accept='audio/mp3', voice='en-US_AllisonV3Voice').get_result()\n",
        "  audio_file.write(res.content)"
      ],
      "execution_count": 28,
      "outputs": []
    },
    {
      "cell_type": "markdown",
      "metadata": {
        "id": "IVoFFNkdITWl"
      },
      "source": [
        "### 3. Convert from File"
      ]
    },
    {
      "cell_type": "code",
      "metadata": {
        "colab": {
          "base_uri": "https://localhost:8080/"
        },
        "id": "6O1z5RfgGK4o",
        "outputId": "de69e4f3-b5ac-4f7d-f69d-99171de5e3ff"
      },
      "source": [
        "with open('gdrive/MyDrive/TTS/radioactive.txt', 'r') as text_f:\n",
        "  text = text_f.readlines()\n",
        "text"
      ],
      "execution_count": 22,
      "outputs": [
        {
          "output_type": "execute_result",
          "data": {
            "text/plain": [
              "[\"I'm waking up to ash and dust\\n\",\n",
              " 'I wipe my brow, and I sweat my rust\\n',\n",
              " \"I'm breathing in the chemicals (yeah, ah)\\n\",\n",
              " \"I'm breaking in, shaping up\\n\",\n",
              " 'Then checking out on the prison bus\\n',\n",
              " 'This is it, the apocalypse\\n',\n",
              " 'Whoa\\n',\n",
              " \"I'm waking up\\n\",\n",
              " 'I feel it in my bones\\n',\n",
              " 'Enough to make my system blow\\n',\n",
              " 'Welcome to the new age, to the new age\\n',\n",
              " 'Welcome to the new age, to the new age\\n',\n",
              " 'Whoa-oh-oh-oh, oh\\n',\n",
              " \"Whoa-oh-oh-oh, I'm\\n\",\n",
              " 'Radioactive, radioactive\\n',\n",
              " 'Whoa-oh-oh-oh, oh\\n',\n",
              " \"Whoa-oh-oh-oh, I'm\\n\",\n",
              " 'Radioactive, radioactive\\n',\n",
              " 'I raise my flag, dye my clothes\\n',\n",
              " \"It's a revolution, I suppose\\n\",\n",
              " \"We're painted red to fit right in\\n\",\n",
              " 'Whoa\\n',\n",
              " \"I'm breaking in, shaping up\\n\",\n",
              " 'Then checking out on the prison bus\\n',\n",
              " 'This is it, the apocalypse\\n',\n",
              " 'Whoa\\n',\n",
              " \"I'm waking up\\n\",\n",
              " 'I feel it in my bones\\n',\n",
              " 'Enough to make my system blow\\n',\n",
              " 'Welcome to the new age, to the new age\\n',\n",
              " 'Welcome to the new age, to the new age\\n',\n",
              " 'Whoa-oh-oh-oh, oh\\n',\n",
              " \"Whoa-oh-oh-oh, I'm\\n\",\n",
              " 'Radioactive, radioactive\\n',\n",
              " 'Whoa-oh-oh-oh, oh\\n',\n",
              " \"Whoa-oh-oh-oh, I'm\\n\",\n",
              " 'Radioactive, radioactive\\n',\n",
              " 'All systems go\\n',\n",
              " \"The sun hasn't died\\n\",\n",
              " 'Deep in my bones\\n',\n",
              " 'Straight from inside\\n',\n",
              " \"I'm waking up\\n\",\n",
              " 'I feel it in my bones\\n',\n",
              " 'Enough to make my system blow\\n',\n",
              " 'Welcome to the new age, to the new age\\n',\n",
              " 'Welcome to the new age, to the new age\\n',\n",
              " 'Whoa-oh-oh-oh, oh\\n',\n",
              " \"Whoa-oh-oh-oh, I'm\\n\",\n",
              " 'Radioactive, radioactive\\n',\n",
              " 'Whoa-oh-oh-oh, oh\\n',\n",
              " \"Whoa-oh-oh-oh, I'm\\n\",\n",
              " 'Radioactive, radioactive\\n']"
            ]
          },
          "metadata": {},
          "execution_count": 22
        }
      ]
    },
    {
      "cell_type": "code",
      "metadata": {
        "colab": {
          "base_uri": "https://localhost:8080/",
          "height": 205
        },
        "id": "aDbzyK0PHwfW",
        "outputId": "7756a6f1-7c6e-4218-936c-059856e02f14"
      },
      "source": [
        "#remove \\n\n",
        "text = [line.replace('\\n',' ') for line in text]\n",
        "text = ''.join(str(line) for line in text)\n",
        "text"
      ],
      "execution_count": 23,
      "outputs": [
        {
          "output_type": "execute_result",
          "data": {
            "application/vnd.google.colaboratory.intrinsic+json": {
              "type": "string"
            },
            "text/plain": [
              "\"I'm waking up to ash and dust I wipe my brow, and I sweat my rust I'm breathing in the chemicals (yeah, ah) I'm breaking in, shaping up Then checking out on the prison bus This is it, the apocalypse Whoa I'm waking up I feel it in my bones Enough to make my system blow Welcome to the new age, to the new age Welcome to the new age, to the new age Whoa-oh-oh-oh, oh Whoa-oh-oh-oh, I'm Radioactive, radioactive Whoa-oh-oh-oh, oh Whoa-oh-oh-oh, I'm Radioactive, radioactive I raise my flag, dye my clothes It's a revolution, I suppose We're painted red to fit right in Whoa I'm breaking in, shaping up Then checking out on the prison bus This is it, the apocalypse Whoa I'm waking up I feel it in my bones Enough to make my system blow Welcome to the new age, to the new age Welcome to the new age, to the new age Whoa-oh-oh-oh, oh Whoa-oh-oh-oh, I'm Radioactive, radioactive Whoa-oh-oh-oh, oh Whoa-oh-oh-oh, I'm Radioactive, radioactive All systems go The sun hasn't died Deep in my bones Straight from inside I'm waking up I feel it in my bones Enough to make my system blow Welcome to the new age, to the new age Welcome to the new age, to the new age Whoa-oh-oh-oh, oh Whoa-oh-oh-oh, I'm Radioactive, radioactive Whoa-oh-oh-oh, oh Whoa-oh-oh-oh, I'm Radioactive, radioactive \""
            ]
          },
          "metadata": {},
          "execution_count": 23
        }
      ]
    },
    {
      "cell_type": "code",
      "metadata": {
        "id": "ouiISRYoIYGD"
      },
      "source": [
        "with open('gdrive/MyDrive/TTS/radioactive.mp3','wb') as audio_file:\n",
        "  res = tts.synthesize(text, accept='audio/mp3', voice='en-US_MichaelV3Voice').get_result()\n",
        "  audio_file.write(res.content)"
      ],
      "execution_count": 25,
      "outputs": []
    },
    {
      "cell_type": "markdown",
      "metadata": {
        "id": "zzJKAO-_JKb-"
      },
      "source": [
        "### 4. Using New Language Models"
      ]
    },
    {
      "cell_type": "code",
      "metadata": {
        "id": "tOqnbubHKlKy"
      },
      "source": [
        "voice = 'ja-JP_EmiV3Voice'"
      ],
      "execution_count": 26,
      "outputs": []
    },
    {
      "cell_type": "code",
      "metadata": {
        "id": "HCepI7xfKsxm"
      },
      "source": [
        "with open('gdrive/MyDrive/TTS/radioactive_jpn.mp3','wb') as audio_file:\n",
        "  res = tts.synthesize(text, accept='audio/mp3', voice=voice).get_result()\n",
        "  audio_file.write(res.content)"
      ],
      "execution_count": 27,
      "outputs": []
    }
  ]
}