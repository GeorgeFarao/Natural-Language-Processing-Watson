{
  "nbformat": 4,
  "nbformat_minor": 0,
  "metadata": {
    "colab": {
      "name": "Video To Text.ipynb",
      "provenance": [],
      "collapsed_sections": []
    },
    "kernelspec": {
      "name": "python3",
      "display_name": "Python 3"
    },
    "language_info": {
      "name": "python"
    }
  },
  "cells": [
    {
      "cell_type": "markdown",
      "metadata": {
        "id": "7ZfXIJDHz51q"
      },
      "source": [
        "## 0. Install and Import Dependencies"
      ]
    },
    {
      "cell_type": "code",
      "metadata": {
        "colab": {
          "base_uri": "https://localhost:8080/"
        },
        "id": "O6hqAcUR4NiF",
        "outputId": "236684db-8694-425f-f910-b03a55069d29"
      },
      "source": [
        "from google.colab import drive\n",
        "drive.mount('/content/gdrive')"
      ],
      "execution_count": 1,
      "outputs": [
        {
          "output_type": "stream",
          "name": "stdout",
          "text": [
            "Drive already mounted at /content/gdrive; to attempt to forcibly remount, call drive.mount(\"/content/gdrive\", force_remount=True).\n"
          ]
        }
      ]
    },
    {
      "cell_type": "code",
      "metadata": {
        "colab": {
          "base_uri": "https://localhost:8080/"
        },
        "id": "qC79ay4tzwDQ",
        "outputId": "8535f4b2-05cc-4b22-8602-0f3d00299284"
      },
      "source": [
        "!pip install ibm_watson"
      ],
      "execution_count": 2,
      "outputs": [
        {
          "output_type": "stream",
          "name": "stdout",
          "text": [
            "Requirement already satisfied: ibm_watson in /usr/local/lib/python3.7/dist-packages (5.3.0)\n",
            "Requirement already satisfied: python-dateutil>=2.5.3 in /usr/local/lib/python3.7/dist-packages (from ibm_watson) (2.8.2)\n",
            "Requirement already satisfied: websocket-client==1.1.0 in /usr/local/lib/python3.7/dist-packages (from ibm_watson) (1.1.0)\n",
            "Requirement already satisfied: requests<3.0,>=2.0 in /usr/local/lib/python3.7/dist-packages (from ibm_watson) (2.23.0)\n",
            "Requirement already satisfied: ibm-cloud-sdk-core==3.*,>=3.3.6 in /usr/local/lib/python3.7/dist-packages (from ibm_watson) (3.11.3)\n",
            "Requirement already satisfied: PyJWT<3.0.0,>=2.0.1 in /usr/local/lib/python3.7/dist-packages (from ibm-cloud-sdk-core==3.*,>=3.3.6->ibm_watson) (2.1.0)\n",
            "Requirement already satisfied: six>=1.5 in /usr/local/lib/python3.7/dist-packages (from python-dateutil>=2.5.3->ibm_watson) (1.15.0)\n",
            "Requirement already satisfied: idna<3,>=2.5 in /usr/local/lib/python3.7/dist-packages (from requests<3.0,>=2.0->ibm_watson) (2.10)\n",
            "Requirement already satisfied: chardet<4,>=3.0.2 in /usr/local/lib/python3.7/dist-packages (from requests<3.0,>=2.0->ibm_watson) (3.0.4)\n",
            "Requirement already satisfied: urllib3!=1.25.0,!=1.25.1,<1.26,>=1.21.1 in /usr/local/lib/python3.7/dist-packages (from requests<3.0,>=2.0->ibm_watson) (1.24.3)\n",
            "Requirement already satisfied: certifi>=2017.4.17 in /usr/local/lib/python3.7/dist-packages (from requests<3.0,>=2.0->ibm_watson) (2021.5.30)\n"
          ]
        }
      ]
    },
    {
      "cell_type": "code",
      "metadata": {
        "colab": {
          "base_uri": "https://localhost:8080/"
        },
        "id": "aCzCh0LB24C_",
        "outputId": "ecc1fe4f-01ef-402e-dcbf-0e2bdaec08cc"
      },
      "source": [
        "!pip install ffmpeg"
      ],
      "execution_count": 3,
      "outputs": [
        {
          "output_type": "stream",
          "name": "stdout",
          "text": [
            "Requirement already satisfied: ffmpeg in /usr/local/lib/python3.7/dist-packages (1.4)\n"
          ]
        }
      ]
    },
    {
      "cell_type": "code",
      "metadata": {
        "id": "GmXEOMTB3XCN"
      },
      "source": [
        "import subprocess\n",
        "from ibm_watson import SpeechToTextV1\n",
        "from ibm_watson.websocket import RecognizeCallback, AudioSource\n",
        "from ibm_cloud_sdk_core.authenticators import IAMAuthenticator"
      ],
      "execution_count": 4,
      "outputs": []
    },
    {
      "cell_type": "markdown",
      "metadata": {
        "id": "RvHzDGxk0Ddg"
      },
      "source": [
        "## 1. Extract Audio"
      ]
    },
    {
      "cell_type": "code",
      "metadata": {
        "colab": {
          "base_uri": "https://localhost:8080/"
        },
        "id": "_qLuNnBy4HC4",
        "outputId": "01e19011-7c8a-45a2-933a-6b07b3a6a515"
      },
      "source": [
        "command = 'ffmpeg -i gdrive/MyDrive/TTS/video_to_text.mkv -ab 160k -ar 4410 -vn gdrive/MyDrive/TTS/audio.wav'\n",
        "subprocess.call(command, shell= True)"
      ],
      "execution_count": 5,
      "outputs": [
        {
          "output_type": "execute_result",
          "data": {
            "text/plain": [
              "0"
            ]
          },
          "metadata": {},
          "execution_count": 5
        }
      ]
    },
    {
      "cell_type": "markdown",
      "metadata": {
        "id": "bu5_Jq6D0J9g"
      },
      "source": [
        "## 2.Setuo STT Service"
      ]
    },
    {
      "cell_type": "code",
      "metadata": {
        "id": "aodRE_Ki5fDs"
      },
      "source": [
        "# You can get your URL and apikey from https://cloud.ibm.com/catalog/services\n",
        "url = ''\n",
        "apikey =''"
      ],
      "execution_count": 6,
      "outputs": []
    },
    {
      "cell_type": "code",
      "metadata": {
        "id": "-kGR1dmt5u8o"
      },
      "source": [
        "#setup service\n",
        "authenticator =IAMAuthenticator(apikey)\n",
        "#New STT Service\n",
        "stt = SpeechToTextV1(authenticator=authenticator)\n",
        "# Set Service URL\n",
        "stt.set_service_url(url)"
      ],
      "execution_count": 7,
      "outputs": []
    },
    {
      "cell_type": "markdown",
      "metadata": {
        "id": "sBKFZKq20OH6"
      },
      "source": [
        "## 3. Open Audio Source and Convert"
      ]
    },
    {
      "cell_type": "code",
      "metadata": {
        "id": "I3DiLJqN5-QF"
      },
      "source": [
        "with open('gdrive/MyDrive/TTS/audio.wav','rb') as f:\n",
        "  res = stt.recognize(audio=f, content_type='audio/wav', model='en-AU_NarrowbandModel', continuous=True  ).get_result()"
      ],
      "execution_count": null,
      "outputs": []
    },
    {
      "cell_type": "markdown",
      "metadata": {
        "id": "bzg5aVk20oWu"
      },
      "source": [
        "## 4. Process Results and Output to Text"
      ]
    },
    {
      "cell_type": "code",
      "metadata": {
        "id": "FoKm7zME-eb0"
      },
      "source": [
        "text = [result['alternatives'][0]['transcript'].rstrip()] + '.\\n' for result in res['results']"
      ],
      "execution_count": null,
      "outputs": []
    },
    {
      "cell_type": "code",
      "metadata": {
        "id": "xO-rnhl0_S-T"
      },
      "source": [
        "text = [parag[0].title() + parag[1:] for parag in text]\n",
        "transcript = ''.join(text)\n",
        "with open('gdrive/MyDrive/TTS/output.txt', 'w') as out:\n",
        "  out.writelines(transcript)"
      ],
      "execution_count": null,
      "outputs": []
    }
  ]
}